{
 "cells": [
  {
   "cell_type": "markdown",
   "metadata": {},
   "source": [
    "<img src=\"lalogonavy.png\">"
   ]
  },
  {
   "cell_type": "markdown",
   "metadata": {},
   "source": [
    "\n",
    "___"
   ]
  },
  {
   "cell_type": "markdown",
   "metadata": {},
   "source": [
    "<h1>\n",
    "<p style=\"text-align: center;\">DynamoDB Tables<p>\n",
    "</h1>"
   ]
  },
  {
   "cell_type": "markdown",
   "metadata": {},
   "source": [
    "### First, we need to install a few dependencies:"
   ]
  },
  {
   "cell_type": "code",
   "execution_count": null,
   "metadata": {},
   "outputs": [],
   "source": [
    "!pip install boto3 cython PyHamcrest "
   ]
  },
  {
   "cell_type": "markdown",
   "metadata": {},
   "source": [
    "### Now, we have to perform some imports:"
   ]
  },
  {
   "cell_type": "code",
   "execution_count": null,
   "metadata": {},
   "outputs": [],
   "source": [
    "from __future__ import print_function # Python 2/3 compatibility\n",
    "import boto3\n",
    "import json\n",
    "import decimal\n",
    "import sys\n",
    "import random\n",
    "from time import sleep\n",
    "from boto3.dynamodb.conditions import Key, Attr\n",
    "import pandas as pd"
   ]
  },
  {
   "cell_type": "markdown",
   "metadata": {},
   "source": [
    "### Let's create our 'movies' table and Local Secondary Index:"
   ]
  },
  {
   "cell_type": "code",
   "execution_count": 40,
   "metadata": {},
   "outputs": [],
   "source": [
    "dynamodb = boto3.resource('dynamodb',  region_name='us-east-1')\n",
    "\n",
    "\n",
    "table = dynamodb.create_table(\n",
    "        TableName= 'movies',\n",
    "        KeySchema=[\n",
    "            {\n",
    "                'KeyType': 'HASH',\n",
    "                'AttributeName': 'year'\n",
    "            },\n",
    "            {\n",
    "                'KeyType': 'RANGE',\n",
    "                'AttributeName': 'title'\n",
    "            }\n",
    "        ],\n",
    "        LocalSecondaryIndexes=[\n",
    "            {\n",
    "                'IndexName': 'year-actor-index',\n",
    "                'KeySchema': [\n",
    "                    {\n",
    "                        'KeyType': 'HASH',\n",
    "                        'AttributeName': 'year'\n",
    "                    },\n",
    "                    {\n",
    "                        'KeyType': 'RANGE',\n",
    "                        'AttributeName': 'actor'\n",
    "                    }\n",
    "                ],\n",
    "\n",
    "                'Projection': {\n",
    "                    'ProjectionType': 'ALL',\n",
    "                }\n",
    "            }\n",
    "        ],\n",
    "        AttributeDefinitions=[\n",
    "            {\n",
    "                'AttributeName': 'year',\n",
    "                'AttributeType': 'N'\n",
    "            },\n",
    "            {\n",
    "                'AttributeName': 'title',\n",
    "                'AttributeType': 'S'\n",
    "            },\n",
    "            {\n",
    "                'AttributeName': 'actor',\n",
    "                'AttributeType': 'S'\n",
    "            }            \n",
    "        ],\n",
    "        ProvisionedThroughput={\n",
    "            'ReadCapacityUnits': 2,\n",
    "            'WriteCapacityUnits': 2\n",
    "        }\n",
    "    )\n",
    "# Wait until the table exists.\n",
    "table.meta.client.get_waiter('table_exists').wait(TableName='movies')\n",
    "print('Table is ready, please continue as instructed.')"
   ]
  },
  {
   "cell_type": "markdown",
   "metadata": {},
   "source": [
    "### Let's upload some data:"
   ]
  },
  {
   "cell_type": "code",
   "execution_count": null,
   "metadata": {},
   "outputs": [],
   "source": [
    "dynamodb = boto3.resource('dynamodb',  region_name='us-east-1')\n",
    "table = dynamodb.Table('movies')\n",
    "table.put_item(\n",
    "    Item={\n",
    "        'year': 2005,\n",
    "        'title': 'Batman Begins',\n",
    "        'actor': 'Christian Bale'\n",
    "    }\n",
    ")\n",
    "table.put_item(\n",
    "    Item={\n",
    "        'year': 2008,\n",
    "        'title': 'The Dark Knight Rises',\n",
    "        'actor': 'Christian Bale'\n",
    "    }\n",
    ")\n",
    "table.put_item(\n",
    "    Item={\n",
    "        'year': 2008,\n",
    "        'title': 'Tropic Thunder',\n",
    "        'actor': 'Robert Downey Jr.'\n",
    "    }\n",
    ")\n",
    "table.put_item(\n",
    "    Item={\n",
    "        'year': 2008,\n",
    "        'title': 'Iron Man',\n",
    "        'actor': 'Robert Downey Jr.'\n",
    "    }\n",
    ")\n",
    "\n",
    "response = table.scan()\n",
    "\n",
    "for i in response['Items']:\n",
    "    print(\"added item:\", i['year'], \":\", i['title'], \":\", i['actor'])"
   ]
  },
  {
   "cell_type": "markdown",
   "metadata": {},
   "source": [
    "### Now, let's perform some queries:"
   ]
  },
  {
   "cell_type": "markdown",
   "metadata": {},
   "source": [
    "##### First, we'll perform a scan of our table:"
   ]
  },
  {
   "cell_type": "code",
   "execution_count": null,
   "metadata": {},
   "outputs": [],
   "source": [
    "dynamodb = boto3.resource('dynamodb',  region_name='us-east-1', )\n",
    "table = dynamodb.Table('movies')\n",
    "\n",
    "response = table.scan()\n",
    "\n",
    "item_list = []\n",
    "for i in response['Items']:\n",
    "    item = {'year':i['year'], 'title':i['title'], 'actor' :i['actor']}\n",
    "    item_list.append(item)\n",
    "df = pd.DataFrame(data=item_list)\n",
    "df"
   ]
  },
  {
   "cell_type": "markdown",
   "metadata": {},
   "source": [
    "##### Now, let's perform a query for all movies released in 2008 with titles that start with \"T\":"
   ]
  },
  {
   "cell_type": "code",
   "execution_count": null,
   "metadata": {},
   "outputs": [],
   "source": [
    "dynamodb = boto3.resource('dynamodb',  region_name='us-east-1')\n",
    "table = dynamodb.Table('movies')\n",
    "\n",
    "response = table.query(\n",
    "    KeyConditionExpression=Key('year').eq(2008) & Key('title').begins_with('T')\n",
    ")\n",
    "\n",
    "item_list = []\n",
    "for i in response['Items']:\n",
    "    item = {'year':i['year'], 'title':i['title'], 'actor' :i['actor']}\n",
    "    item_list.append(item)\n",
    "df = pd.DataFrame(data=item_list)\n",
    "df"
   ]
  },
  {
   "cell_type": "markdown",
   "metadata": {},
   "source": [
    "#### Next, we will query the Local Secondary Index for all movies released by Robert Downey Jr. in 2008:"
   ]
  },
  {
   "cell_type": "code",
   "execution_count": null,
   "metadata": {},
   "outputs": [],
   "source": [
    "dynamodb = boto3.resource('dynamodb',  region_name='us-east-1', )\n",
    "table = dynamodb.Table('movies')\n",
    "\n",
    "\n",
    "response = table.query(\n",
    "    IndexName = 'year-actor-index',\n",
    "    KeyConditionExpression=Key('year').eq(2008) & Key('actor').eq('Robert Downey Jr.')\n",
    "    \n",
    ")\n",
    "\n",
    "item_list = []\n",
    "for i in response['Items']:\n",
    "    item = {'year':i['year'], 'title':i['title'], 'actor' :i['actor']}\n",
    "    item_list.append(item)\n",
    "df = pd.DataFrame(data=item_list)\n",
    "df"
   ]
  },
  {
   "cell_type": "markdown",
   "metadata": {},
   "source": [
    "___\n",
    "# All Finished! Awesome job!"
   ]
  },
  {
   "cell_type": "code",
   "execution_count": null,
   "metadata": {},
   "outputs": [],
   "source": []
  }
 ],
 "metadata": {
  "kernelspec": {
   "display_name": "Python 3",
   "language": "python",
   "name": "python3"
  },
  "language_info": {
   "codemirror_mode": {
    "name": "ipython",
    "version": 3
   },
   "file_extension": ".py",
   "mimetype": "text/x-python",
   "name": "python",
   "nbconvert_exporter": "python",
   "pygments_lexer": "ipython3",
   "version": "3.7.1"
  }
 },
 "nbformat": 4,
 "nbformat_minor": 2
}
