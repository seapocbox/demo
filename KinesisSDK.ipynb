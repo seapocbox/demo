{
 "cells": [
  {
   "cell_type": "markdown",
   "metadata": {},
   "source": [
    "<img src=\"lalogonavy.png\">"
   ]
  },
  {
   "cell_type": "markdown",
   "metadata": {},
   "source": [
    "<h1>\n",
    "    <p style=\"text-align: center;\">Building a Pipeline to Ingest and Analyze Streaming Data</p>\n",
    "</h1>"
   ]
  },
  {
   "cell_type": "markdown",
   "metadata": {},
   "source": [
    "<img src=\"kinesis-lab.png\">"
   ]
  },
  {
   "cell_type": "markdown",
   "metadata": {},
   "source": [
    "### Let's install boto3, import some dependencies and then set some variables:"
   ]
  },
  {
   "cell_type": "code",
   "execution_count": null,
   "metadata": {
    "scrolled": true
   },
   "outputs": [],
   "source": [
    "!pip install boto3"
   ]
  },
  {
   "cell_type": "code",
   "execution_count": null,
   "metadata": {},
   "outputs": [],
   "source": [
    "import boto3\n",
    "import json\n",
    "from datetime import datetime\n",
    "import calendar\n",
    "import random\n",
    "import time\n",
    "import uuid"
   ]
  },
  {
   "cell_type": "code",
   "execution_count": null,
   "metadata": {},
   "outputs": [],
   "source": [
    "# The name of the stream we'll be creating\n",
    "my_stream_name = 'our-penguin-stream'\n",
    "\n",
    "# Our Kinesis client that we'll use to interact with the Kinesis Service\n",
    "kinesis_client = boto3.client('kinesis', region_name='us-east-1')"
   ]
  },
  {
   "cell_type": "markdown",
   "metadata": {},
   "source": [
    "### Now we can create the Kinesis Data Stream"
   ]
  },
  {
   "cell_type": "code",
   "execution_count": null,
   "metadata": {},
   "outputs": [],
   "source": [
    "# Create the Stream\n",
    "kinesis_client.create_stream(\n",
    "    StreamName=my_stream_name,\n",
    "    ShardCount=1\n",
    ")"
   ]
  },
  {
   "cell_type": "markdown",
   "metadata": {},
   "source": [
    "### And write a function that will add data to our stream"
   ]
  },
  {
   "cell_type": "code",
   "execution_count": null,
   "metadata": {
    "scrolled": true
   },
   "outputs": [],
   "source": [
    "def put_to_stream(kin_client):\n",
    "    record = {\n",
    "        'purchase_id': str(uuid.uuid4()),\n",
    "        'timestamp': str(calendar.timegm(datetime.utcnow().timetuple())),\n",
    "        'item_sold': random.choice(['Shoes', 'Shirt', 'Jeans'])\n",
    "    }\n",
    "    kinesis_client.put_record(\n",
    "        StreamName=my_stream_name,\n",
    "        Data=json.dumps(record),\n",
    "        PartitionKey='a-partition'\n",
    "    )"
   ]
  },
  {
   "cell_type": "markdown",
   "metadata": {},
   "source": [
    "### Let's run that function a few times to send that data into the stream (Wait for the stream to be created!)"
   ]
  },
  {
   "cell_type": "code",
   "execution_count": null,
   "metadata": {
    "scrolled": true
   },
   "outputs": [],
   "source": [
    "i = 0\n",
    "while i < 20:\n",
    "    i += 1\n",
    "    put_to_stream(kinesis_client)\n",
    "    time.sleep(.3)"
   ]
  },
  {
   "cell_type": "markdown",
   "metadata": {},
   "source": [
    "### Now, let's take a look at all that data"
   ]
  },
  {
   "cell_type": "code",
   "execution_count": null,
   "metadata": {
    "scrolled": true
   },
   "outputs": [],
   "source": [
    "# Get some information on the stream required to read data from it\n",
    "response = kinesis_client.describe_stream(StreamName=my_stream_name)\n",
    "my_shard_id = response['StreamDescription']['Shards'][0]['ShardId']\n",
    "\n",
    "# With the shard id then you can get the shard iterator to actually review the data\n",
    "shard_iterator = kinesis_client.get_shard_iterator(\n",
    "    StreamName=my_stream_name,\n",
    "    ShardId=my_shard_id,\n",
    "    ShardIteratorType='TRIM_HORIZON'\n",
    ")\n",
    "\n",
    "my_shard_iterator = shard_iterator['ShardIterator']\n",
    "\n",
    "# Now you can actually look at the data inside the Kinesis data stream\n",
    "record_response = kinesis_client.get_records(\n",
    "    ShardIterator=my_shard_iterator,\n",
    "    Limit=1\n",
    ")\n",
    "\n",
    "# Iterate over all the data\n",
    "while 'NextShardIterator' in record_response:\n",
    "    record_response = kinesis_client.get_records(\n",
    "        ShardIterator=record_response['NextShardIterator'],\n",
    "        Limit=1\n",
    "    )\n",
    "    print(record_response)\n",
    "    print('')\n",
    "    print(record_response['Records'][0]['Data'])\n",
    "    print('\\n\\n')\n",
    "    time.sleep(5)\n",
    "\n",
    "    "
   ]
  },
  {
   "cell_type": "markdown",
   "metadata": {},
   "source": [
    "### Now that we know the data is going into the stream, we can use Kinesis Analytics to analyze the streaming data"
   ]
  },
  {
   "cell_type": "code",
   "execution_count": null,
   "metadata": {
    "scrolled": true
   },
   "outputs": [],
   "source": [
    "# Start sending streaming data into the Kinesis Data Stream, then we can connect it to Kinesis Analytics\n",
    "while True:\n",
    "    put_to_stream(kinesis_client)\n",
    "    time.sleep(.3)"
   ]
  },
  {
   "cell_type": "markdown",
   "metadata": {},
   "source": [
    "#### SQL Code for Kinesis Analytics\n",
    "\n",
    "```mysql\n",
    "CREATE OR REPLACE STREAM \"DESTINATION_SQL_STREAM\" (\n",
    "    \"item_sold\" VARCHAR(8),\n",
    "    count_items INTEGER\n",
    ");\n",
    "\n",
    "\n",
    "CREATE OR REPLACE PUMP \"STREAM_PUMP\" AS INSERT INTO \"DESTINATION_SQL_STREAM\"\n",
    "SELECT STREAM\n",
    "    \"item_sold\",\n",
    "    COUNT(*) as count_items\n",
    "FROM \"SOURCE_SQL_STREAM_001\"\n",
    "GROUP BY \n",
    "    \"item_sold\",\n",
    "    FLOOR((\"SOURCE_SQL_STREAM_001\".ROWTIME - TIMESTAMP '1970-01-01 00:00:00') SECOND / 10 TO SECOND);\n",
    "```"
   ]
  },
  {
   "cell_type": "markdown",
   "metadata": {},
   "source": [
    "### All Done! Awesome Job!"
   ]
  }
 ],
 "metadata": {
  "kernelspec": {
   "display_name": "Python 3",
   "language": "python",
   "name": "python3"
  },
  "language_info": {
   "codemirror_mode": {
    "name": "ipython",
    "version": 3
   },
   "file_extension": ".py",
   "mimetype": "text/x-python",
   "name": "python",
   "nbconvert_exporter": "python",
   "pygments_lexer": "ipython3",
   "version": "3.7.1"
  }
 },
 "nbformat": 4,
 "nbformat_minor": 2
}
